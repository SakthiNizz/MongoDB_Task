{
 "cells": [
  {
   "cell_type": "code",
   "execution_count": null,
   "id": "fb917a3a",
   "metadata": {},
   "outputs": [],
   "source": [
    "# Importing the required modules\n",
    "import pymongo\n",
    "import json"
   ]
  },
  {
   "cell_type": "code",
   "execution_count": null,
   "id": "984de448",
   "metadata": {},
   "outputs": [],
   "source": [
    "# Creating a new database \n",
    "client = pymongo.MongoClient(\"mongodb://localhost:27017/\")\n",
    "mydb = client['Assgdb']"
   ]
  },
  {
   "cell_type": "code",
   "execution_count": null,
   "id": "c6bcbc19",
   "metadata": {},
   "outputs": [],
   "source": [
    "# Creating new directory\n",
    "mycoll = mydb['Students']"
   ]
  },
  {
   "cell_type": "code",
   "execution_count": null,
   "id": "e060eccf",
   "metadata": {},
   "outputs": [],
   "source": [
    "# Loading or updating json file\n",
    "l = []\n",
    "with open('students.json') as f:\n",
    "    for i in f:\n",
    "        l.append(i)"
   ]
  },
  {
   "cell_type": "code",
   "execution_count": null,
   "id": "b2a15652",
   "metadata": {},
   "outputs": [],
   "source": [
    "# Inserting the students record into the collection\n",
    "for i in l:\n",
    "    s = json.loads(i)\n",
    "    mycoll.insert_one(s)"
   ]
  },
  {
   "cell_type": "code",
   "execution_count": null,
   "id": "46fd422a",
   "metadata": {},
   "outputs": [],
   "source": [
    "# Screening all records which inserted\n",
    "for e in mycoll.find():\n",
    "    print(e)"
   ]
  },
  {
   "cell_type": "code",
   "execution_count": null,
   "id": "1fe70b69",
   "metadata": {},
   "outputs": [],
   "source": [
    "# Some of the list of queries that i did here is given below cells!"
   ]
  },
  {
   "cell_type": "code",
   "execution_count": null,
   "id": "1f3ffbb4",
   "metadata": {},
   "outputs": [],
   "source": [
    "# 1) Find the student name who scored maximum scores in all (exam, quiz and homework)?\n",
    "cursor = mycoll.aggregate([\n",
    "  { \"$unwind\": \"$scores\" },\n",
    "  { \"$group\": {\n",
    "      \"_id\": \"$scores.type\",\n",
    "      \"nameScores\": {\n",
    "        \"$push\": { \"name\": \"$name\", \"score\": \"$scores.score\" }\n",
    "      },\n",
    "      \"max\": { \"$max\": \"$scores.score\" }\n",
    "    }\n",
    "  },\n",
    "  { \"$set\": {\n",
    "      \"max_score\": {\n",
    "        \"$first\": {\n",
    "          \"$filter\": {\n",
    "            \"input\": \"$nameScores\",\n",
    "            \"cond\": { \"$eq\": [ \"$$this.score\", \"$max\" ] }\n",
    "          }\n",
    "        }\n",
    "      }\n",
    "    }\n",
    "  },\n",
    "  { \"$project\": {\n",
    "      \"_id\": 0,\n",
    "      \"type\": \"$_id\",\n",
    "      \"max_score\": 1\n",
    "    }\n",
    "  }\n",
    "])\n",
    "\n",
    "# To display the result\n",
    "for document in cursor:\n",
    "    print(document)"
   ]
  },
  {
   "cell_type": "code",
   "execution_count": null,
   "id": "6746060f",
   "metadata": {},
   "outputs": [],
   "source": [
    "# 2) Find students who scored below average in the exam and pass mark is 40%?\n",
    "cursor = avg_coll.aggregate([{'$unwind':'$scores'},{'$group':{'_id':'$total','Pass_student':{'$total':{'$gt':40}}}}])\n",
    "for i in cursor:\n",
    "    print(i)"
   ]
  },
  {
   "cell_type": "code",
   "execution_count": null,
   "id": "088ea062",
   "metadata": {},
   "outputs": [],
   "source": [
    "# 3) Find students who scored below pass mark and assigned them as fail, and above pass mark as pass in all the categories.\n",
    "cursor = avg_coll.aggregate([{'$unwind':'$scores'},\n",
    "                             {'$group':{'_id':'$_id',\n",
    "                                        'status':{'$switch':\n",
    "                                                  {'branches':\n",
    "                                                   [{'case':{'$gt':['total',40]},'then':\"pass\"},\n",
    "                                                   {'case':{'$lt':['total',40]},'then':\"fail\"}]}}}}])\n",
    "for i in cursor:\n",
    "    print(i)"
   ]
  },
  {
   "cell_type": "code",
   "execution_count": null,
   "id": "42e93ddd",
   "metadata": {},
   "outputs": [],
   "source": [
    "# 4) Find the total and average of the exam, quiz and homework and store them in a separate collection.\n",
    "cursor = mycoll.aggregate([{ '$unwind' : \"$scores\"},{ '$group':{'_id': \"$name\",'total': { '$avg': \"$scores.score\" }}}])\n",
    "avg_coll = mydb['Average_marks1']\n",
    "for i in cursor:\n",
    "    avg_coll.insert_one(i)\n",
    "# To display the output\n",
    "for i in avg_coll.find():\n",
    "    print(i)  "
   ]
  },
  {
   "cell_type": "code",
   "execution_count": null,
   "id": "9a2d58f7",
   "metadata": {},
   "outputs": [],
   "source": [
    "# 5) Create a new collection which consists of students who scored below average and above 40% in all the categories.\n",
    "cursor = avg_coll.aggregate([{'$unwind':'$scores'},{'$group':{'_id':'$_id','Pass_student':{'$total':{'$gt':40}}}}])\n",
    "pass_coll = mydb['pass']\n",
    "for i in cursor:\n",
    "    pass_coll.insert_one(i)\n",
    "cursor = avg_coll.aggregate([{'$unwind':'$scores'},{'$group':{'_id':'$total','Pass_student':{'$total':{'$lt':40}}}}])\n",
    "fail_coll = mydb['fail']\n",
    "for i in cursor:\n",
    "    fail_coll.insert_one(i)"
   ]
  },
  {
   "cell_type": "code",
   "execution_count": null,
   "id": "ddd4a5c0",
   "metadata": {},
   "outputs": [],
   "source": [
    "# 6) Create a new collection which consists of students who scored below the fail mark in all the categories."
   ]
  },
  {
   "cell_type": "code",
   "execution_count": null,
   "id": "74db97e8",
   "metadata": {},
   "outputs": [],
   "source": [
    "# 7) Create a new collection which consists of students who scored above pass mark in all the categories."
   ]
  }
 ],
 "metadata": {
  "kernelspec": {
   "display_name": "Python 3 (ipykernel)",
   "language": "python",
   "name": "python3"
  },
  "language_info": {
   "codemirror_mode": {
    "name": "ipython",
    "version": 3
   },
   "file_extension": ".py",
   "mimetype": "text/x-python",
   "name": "python",
   "nbconvert_exporter": "python",
   "pygments_lexer": "ipython3",
   "version": "3.9.13"
  }
 },
 "nbformat": 4,
 "nbformat_minor": 5
}
