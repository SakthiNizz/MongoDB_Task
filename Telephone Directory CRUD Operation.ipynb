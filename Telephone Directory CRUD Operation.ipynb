{
 "cells": [
  {
   "cell_type": "code",
   "execution_count": 1,
   "id": "bbed8339",
   "metadata": {},
   "outputs": [
    {
     "name": "stdout",
     "output_type": "stream",
     "text": [
      "Requirement already satisfied: pymongo in c:\\users\\91638\\anaconda3\\lib\\site-packages (4.3.3)\n",
      "Requirement already satisfied: dnspython<3.0.0,>=1.16.0 in c:\\users\\91638\\anaconda3\\lib\\site-packages (from pymongo) (2.2.1)\n",
      "Note: you may need to restart the kernel to use updated packages.\n"
     ]
    }
   ],
   "source": [
    "pip install pymongo"
   ]
  },
  {
   "cell_type": "code",
   "execution_count": 1,
   "id": "4b68f5e1",
   "metadata": {},
   "outputs": [],
   "source": [
    "import pymongo\n",
    "client = pymongo.MongoClient(\"mongodb://localhost:27017/\")"
   ]
  },
  {
   "cell_type": "code",
   "execution_count": 3,
   "id": "c1681913",
   "metadata": {},
   "outputs": [],
   "source": [
    "# Creating a new database \n",
    "mydb = client['Assgdb']"
   ]
  },
  {
   "cell_type": "code",
   "execution_count": 4,
   "id": "e091a1f8",
   "metadata": {},
   "outputs": [],
   "source": [
    "# Creating new directory\n",
    "mycoll = mydb['Telephone']"
   ]
  },
  {
   "cell_type": "code",
   "execution_count": 5,
   "id": "c43dc6e3",
   "metadata": {},
   "outputs": [],
   "source": [
    "# Inserting directory feilds into collection / insert_one\n",
    "mydict = {'Name':'Sakthivel_P', 'Phone_No':98765453210, 'Place':'Tamil Nadu', 'Sex':'M'}\n",
    "x = mycoll.insert_one(mydict)"
   ]
  },
  {
   "cell_type": "code",
   "execution_count": 6,
   "id": "85679240",
   "metadata": {},
   "outputs": [
    {
     "name": "stdout",
     "output_type": "stream",
     "text": [
      "{'_id': ObjectId('639fead574dac0f5dfba8487'), 'Name': 'Sakthivel_P', 'Phone_No': 98765453210, 'Place': 'Tamil Nadu', 'Sex': 'M'}\n"
     ]
    }
   ],
   "source": [
    "# To display the records in the collection\n",
    "for x in mycoll.find():\n",
    "    print(x)"
   ]
  },
  {
   "cell_type": "code",
   "execution_count": 7,
   "id": "4722e6cd",
   "metadata": {},
   "outputs": [
    {
     "data": {
      "text/plain": [
       "<pymongo.results.InsertManyResult at 0x1ff076df700>"
      ]
     },
     "execution_count": 7,
     "metadata": {},
     "output_type": "execute_result"
    }
   ],
   "source": [
    "# To insert many rows in existing feilds\n",
    "bulkdict = [{'Name':'Siva', 'Phone_No':98765453210, 'Place':'Tamil Nadu', 'Sex':'M'},{'Name':'Simran', 'Phone_No':98765453210, 'Place':'Punjab', 'Sex':'F'},{'Name':'Saraswathi', 'Phone_No':98765453210, 'Place':'Tamil Nadu', 'Sex':'F'},{'Name':'Vairamani', 'Phone_No':98765453210, 'Place':'Gujarath', 'Sex':'M'}]\n",
    "mycoll.insert_many(bulkdict)"
   ]
  },
  {
   "cell_type": "code",
   "execution_count": 8,
   "id": "81a8c3ed",
   "metadata": {},
   "outputs": [
    {
     "name": "stdout",
     "output_type": "stream",
     "text": [
      "{'_id': ObjectId('639fead574dac0f5dfba8487'), 'Name': 'Sakthivel_P', 'Phone_No': 98765453210, 'Place': 'Tamil Nadu', 'Sex': 'M'}\n",
      "{'_id': ObjectId('639fec2a74dac0f5dfba8488'), 'Name': 'Siva', 'Phone_No': 98765453210, 'Place': 'Tamil Nadu', 'Sex': 'M'}\n",
      "{'_id': ObjectId('639fec2a74dac0f5dfba8489'), 'Name': 'Simran', 'Phone_No': 98765453210, 'Place': 'Punjab', 'Sex': 'F'}\n",
      "{'_id': ObjectId('639fec2a74dac0f5dfba848a'), 'Name': 'Saraswathi', 'Phone_No': 98765453210, 'Place': 'Tamil Nadu', 'Sex': 'F'}\n",
      "{'_id': ObjectId('639fec2a74dac0f5dfba848b'), 'Name': 'Vairamani', 'Phone_No': 98765453210, 'Place': 'Gujarath', 'Sex': 'M'}\n"
     ]
    }
   ],
   "source": [
    "# To display the records in the collection\n",
    "for x in mycoll.find():\n",
    "    print(x)"
   ]
  },
  {
   "cell_type": "code",
   "execution_count": 11,
   "id": "9036f62c",
   "metadata": {},
   "outputs": [
    {
     "name": "stdout",
     "output_type": "stream",
     "text": [
      "{'_id': ObjectId('639fead574dac0f5dfba8487'), 'Name': 'Sakthivel_P', 'Phone_No': 98765453210, 'Place': 'Tamil Nadu', 'Sex': 'Male'}\n",
      "{'_id': ObjectId('639fec2a74dac0f5dfba8488'), 'Name': 'Siva', 'Phone_No': 98765453210, 'Place': 'Tamil Nadu', 'Sex': 'M'}\n",
      "{'_id': ObjectId('639fec2a74dac0f5dfba8489'), 'Name': 'Simran', 'Phone_No': 98765453210, 'Place': 'Punjab', 'Sex': 'F'}\n",
      "{'_id': ObjectId('639fec2a74dac0f5dfba848a'), 'Name': 'Saraswathi', 'Phone_No': 98765453210, 'Place': 'Tamil Nadu', 'Sex': 'F'}\n",
      "{'_id': ObjectId('639fec2a74dac0f5dfba848b'), 'Name': 'Vairamani', 'Phone_No': 98765453210, 'Place': 'Gujarath', 'Sex': 'M'}\n"
     ]
    }
   ],
   "source": [
    "# update one\n",
    "old = {'Sex':'M'}\n",
    "new = {'$set':{'Sex':'Male'}}\n",
    "mycoll.update_one(old,new)\n",
    "for x in mycoll.find():\n",
    "    print(x)"
   ]
  },
  {
   "cell_type": "code",
   "execution_count": 12,
   "id": "ed68fe0d",
   "metadata": {},
   "outputs": [
    {
     "name": "stdout",
     "output_type": "stream",
     "text": [
      "{'_id': ObjectId('639fead574dac0f5dfba8487'), 'Name': 'Sakthivel_P', 'Phone_No': 98765453210, 'Place': 'Tamil Nadu', 'Sex': 'Male'}\n",
      "{'_id': ObjectId('639fec2a74dac0f5dfba8488'), 'Name': 'Siva', 'Phone_No': 98765453210, 'Place': 'Tamil Nadu', 'Sex': 'Male'}\n",
      "{'_id': ObjectId('639fec2a74dac0f5dfba8489'), 'Name': 'Simran', 'Phone_No': 98765453210, 'Place': 'Punjab', 'Sex': 'F'}\n",
      "{'_id': ObjectId('639fec2a74dac0f5dfba848a'), 'Name': 'Saraswathi', 'Phone_No': 98765453210, 'Place': 'Tamil Nadu', 'Sex': 'F'}\n",
      "{'_id': ObjectId('639fec2a74dac0f5dfba848b'), 'Name': 'Vairamani', 'Phone_No': 98765453210, 'Place': 'Gujarath', 'Sex': 'Male'}\n"
     ]
    }
   ],
   "source": [
    "# update many\n",
    "old = {'Sex':'M'}\n",
    "new = {'$set':{'Sex':'Male'}}\n",
    "mycoll.update_many(old,new)\n",
    "for x in mycoll.find():\n",
    "    print(x)"
   ]
  },
  {
   "cell_type": "code",
   "execution_count": 13,
   "id": "e366c984",
   "metadata": {},
   "outputs": [
    {
     "name": "stdout",
     "output_type": "stream",
     "text": [
      "{'_id': ObjectId('639fead574dac0f5dfba8487'), 'Name': 'Sakthivel_P', 'Phone_No': 98765453210, 'Place': 'Tamil Nadu', 'Sex': 'Male'}\n",
      "{'_id': ObjectId('639fec2a74dac0f5dfba8488'), 'Name': 'Siva', 'Phone_No': 98765453210, 'Place': 'Tamil Nadu', 'Sex': 'Male'}\n",
      "{'_id': ObjectId('639fec2a74dac0f5dfba8489'), 'Name': 'Simran', 'Phone_No': 98765453210, 'Place': 'Punjab', 'Sex': 'Female'}\n",
      "{'_id': ObjectId('639fec2a74dac0f5dfba848a'), 'Name': 'Saraswathi', 'Phone_No': 98765453210, 'Place': 'Tamil Nadu', 'Sex': 'Female'}\n",
      "{'_id': ObjectId('639fec2a74dac0f5dfba848b'), 'Name': 'Vairamani', 'Phone_No': 98765453210, 'Place': 'Gujarath', 'Sex': 'Male'}\n"
     ]
    }
   ],
   "source": [
    "# update many {one more}\n",
    "old = {'Sex':'F'}\n",
    "new = {'$set':{'Sex':'Female'}}\n",
    "mycoll.update_many(old,new)\n",
    "for x in mycoll.find():\n",
    "    print(x)"
   ]
  },
  {
   "cell_type": "code",
   "execution_count": 14,
   "id": "43bb586a",
   "metadata": {},
   "outputs": [
    {
     "name": "stdout",
     "output_type": "stream",
     "text": [
      "{'_id': ObjectId('639fead574dac0f5dfba8487'), 'Name': 'Sakthivel_P', 'Phone_No': 98765453210, 'Place': 'Tamil Nadu', 'Sex': 'Male'}\n",
      "{'_id': ObjectId('639fec2a74dac0f5dfba8488'), 'Name': 'Siva', 'Phone_No': 98765453210, 'Place': 'Tamil Nadu', 'Sex': 'Male'}\n",
      "{'_id': ObjectId('639fec2a74dac0f5dfba8489'), 'Name': 'Simran', 'Phone_No': 98765453210, 'Place': 'Punjab', 'Sex': 'Female'}\n",
      "{'_id': ObjectId('639fec2a74dac0f5dfba848a'), 'Name': 'Saraswathi', 'Phone_No': 98765453210, 'Place': 'Tamil Nadu', 'Sex': 'Female'}\n"
     ]
    }
   ],
   "source": [
    "# Delete one\n",
    "to_del = {'Place':'Gujarath'}\n",
    "mycoll.delete_one(to_del)\n",
    "for x in mycoll.find():\n",
    "    print(x)"
   ]
  },
  {
   "cell_type": "code",
   "execution_count": 15,
   "id": "1ffcac20",
   "metadata": {},
   "outputs": [
    {
     "name": "stdout",
     "output_type": "stream",
     "text": [
      "{'_id': ObjectId('639fead574dac0f5dfba8487'), 'Name': 'Sakthivel_P', 'Phone_No': 98765453210, 'Place': 'Tamil Nadu', 'Sex': 'Male'}\n",
      "{'_id': ObjectId('639fec2a74dac0f5dfba8488'), 'Name': 'Siva', 'Phone_No': 98765453210, 'Place': 'Tamil Nadu', 'Sex': 'Male'}\n"
     ]
    }
   ],
   "source": [
    "# Delete many\n",
    "to_del = {'Sex':'Female'}\n",
    "mycoll.delete_many(to_del)\n",
    "for x in mycoll.find():\n",
    "    print(x)"
   ]
  },
  {
   "cell_type": "code",
   "execution_count": 16,
   "id": "fadf0500",
   "metadata": {},
   "outputs": [
    {
     "name": "stdout",
     "output_type": "stream",
     "text": [
      "2\n"
     ]
    }
   ],
   "source": [
    "# Delete all\n",
    "x = mycoll.delete_many({})\n",
    "print(x.deleted_count)"
   ]
  }
 ],
 "metadata": {
  "kernelspec": {
   "display_name": "Python 3 (ipykernel)",
   "language": "python",
   "name": "python3"
  },
  "language_info": {
   "codemirror_mode": {
    "name": "ipython",
    "version": 3
   },
   "file_extension": ".py",
   "mimetype": "text/x-python",
   "name": "python",
   "nbconvert_exporter": "python",
   "pygments_lexer": "ipython3",
   "version": "3.9.13"
  }
 },
 "nbformat": 4,
 "nbformat_minor": 5
}
